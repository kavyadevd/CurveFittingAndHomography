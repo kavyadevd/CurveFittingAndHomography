{
 "cells": [
  {
   "cell_type": "markdown",
   "metadata": {},
   "source": [
    "### Homography and SVD computation"
   ]
  },
  {
   "cell_type": "code",
   "execution_count": 29,
   "metadata": {},
   "outputs": [],
   "source": [
    "import numpy as np\n",
    "from numpy import linalg as LA\n",
    "\n",
    "\n",
    "def SVD(A):     # returns VT,U,S = result of SVD\n",
    "    A_At = A.transpose()\n",
    "    # print(A_At)\n",
    "\n",
    "    # Calculate A dot A transpose and A transpose dot A\n",
    "    At_A = np.dot(A_At, A)\n",
    "    #print(\"A_transpose.A = \\n\",At_A)\n",
    "    A_At = np.dot(A,A_At)\n",
    "    #print(\"A.A_transpose = \\n\",A_At)\n",
    "\n",
    "    # GEt EIgen value and eigen vectors of A transpose dot A\n",
    "    V_eigen_val, V_eigen_vec = LA.eig(At_A)\n",
    "    # GEt EIgen value and eigen vectors of A dot A transpose\n",
    "    U_eigen_val, U_eigen_vec = LA.eig(A_At)\n",
    "\n",
    "    # Arrange eigen values and vectors in descending order for V\n",
    "    V_eigen_val_ = V_eigen_val.argsort()[::-1]\n",
    "    V_eigen_vec_ = V_eigen_vec[:, V_eigen_val_]\n",
    "    V_eigen_vec_transpose = V_eigen_vec_.T\n",
    "\n",
    "\n",
    "\n",
    "    # Arrange eigen values and vectors in descending order for U\n",
    "    U_eigen_val_ = U_eigen_val.argsort()[::-1]\n",
    "    U_eigen_vec_ = U_eigen_val[U_eigen_val_]\n",
    "    U_eigen_vec__ = U_eigen_vec[:, U_eigen_val_]\n",
    "\n",
    "\n",
    "    # Arrange elements for sigma\n",
    "    U_diagonal_sqrt = np.diag((np.sqrt(U_eigen_vec_)))\n",
    "    S = np.zeros_like(A).astype(np.float64)\n",
    "    S[:U_diagonal_sqrt.shape[0], :U_diagonal_sqrt.shape[1]] = U_diagonal_sqrt\n",
    "\n",
    "\n",
    "    # Compute H matrix from last column of V\n",
    "    H = V_eigen_vec_[:, 8]\n",
    "    H = np.reshape(H, (3, 3))\n",
    "\n",
    "    return V_eigen_vec_transpose, U_eigen_vec__, S, H\n"
   ]
  },
  {
   "cell_type": "code",
   "execution_count": 30,
   "metadata": {},
   "outputs": [],
   "source": [
    "# Define points for matrix A\n",
    "x1, x2, x3, x4 = 5, 150, 150, 5\n",
    "y1, y2, y3, y4 = 5, 5, 150, 150\n",
    "xp1, xp2, xp3, xp4 = 100, 200, 220, 100\n",
    "yp1, yp2, yp3, yp4 = 100, 80, 80, 200\n",
    "\n",
    "\n",
    "A = np.array([[-x1, -y1, -1, 0, 0, 0, x1*xp1, y1*xp1, xp1],     # Define matrix A for four points\n",
    "              [0, 0, 0, -x1, -y1, -1, x1*yp1, y1*yp1, yp1],\n",
    "              [-x2, -y2, -1, 0, 0, 0, x2*xp2, y2*xp2, xp2],\n",
    "              [0, 0, 0, -x2, -y2, -1, x2*yp2, y2*yp2, yp2],\n",
    "              [-x3, -y3, -1, 0, 0, 0, x3*xp3, y3*xp3, xp3],\n",
    "              [0, 0, 0, -x3, -y3, -1, x3*yp3, y3*yp3, yp3],\n",
    "              [-x4, -y4, -1, 0, 0, 0, x4*xp4, y4*xp4, xp4],\n",
    "              [0, 0, 0, -x4, -y4, -1, x4*yp4, y4*yp4, yp4]])\n",
    "\n",
    "#print(\"A=\\n\",np.mat(A))\n",
    "\n",
    "VT, U, S, H = SVD(A)\n",
    "\n"
   ]
  },
  {
   "cell_type": "markdown",
   "metadata": {},
   "source": [
    "#### Matrix V"
   ]
  },
  {
   "cell_type": "code",
   "execution_count": 31,
   "metadata": {},
   "outputs": [
    {
     "name": "stdout",
     "output_type": "stream",
     "text": [
      "[[ 2.84043894e-03  3.14430147e-03 -2.46384735e-01 -1.58554932e-01\n",
      "  -1.75245114e-01  1.76705635e-01  9.13738625e-01 -1.20261073e-01\n",
      "   5.31056350e-02]\n",
      " [ 2.42121739e-03 -1.28321626e-03 -3.77000733e-01  1.76600215e-01\n",
      "   6.89508147e-01  5.90273326e-01 -5.29344506e-02 -2.23230961e-03\n",
      "  -4.91718843e-03]\n",
      " [ 2.20891154e-05  1.13495064e-05 -2.37217168e-03 -3.65660431e-03\n",
      "   5.19584361e-03  7.52000216e-03  6.59901594e-02  7.85970681e-01\n",
      "   6.14648552e-01]\n",
      " [ 1.09109680e-03  1.17416448e-03  6.61240940e-01  3.41172744e-01\n",
      "   5.01749740e-01 -2.32499365e-01  3.72052358e-01 -4.25903576e-02\n",
      "   1.77018784e-02]\n",
      " [ 1.63479471e-03 -2.90636016e-03  5.74279813e-01 -7.10405325e-02\n",
      "  -3.14549320e-01  7.49883366e-01 -6.19835401e-02  4.58785876e-03\n",
      "  -3.93375075e-03]\n",
      " [ 1.33908907e-05 -1.14077892e-05  5.80190908e-03 -2.15181510e-03\n",
      "   2.88147957e-03 -5.73504703e-03 -1.22489909e-01 -6.04930528e-01\n",
      "   7.86750146e-01]\n",
      " [-6.96053715e-01 -7.17961695e-01 -7.57487349e-05 -3.79564118e-03\n",
      "   2.50334194e-03 -1.50223526e-04  4.37766998e-03 -5.55196293e-04\n",
      "   2.36025045e-04]\n",
      " [-7.17950893e-01  6.96067270e-01  1.62813209e-03 -3.77529395e-03\n",
      "   2.49754245e-03  3.65599795e-03 -6.00114914e-04  3.48250733e-05\n",
      "  -4.91718843e-05]\n",
      " [-6.16016024e-03  2.29933343e-05 -1.73453679e-01  9.06741660e-01\n",
      "  -3.78319687e-01  6.21986452e-02  2.52338778e-02 -2.47794677e-03\n",
      "   7.62164204e-03]]\n"
     ]
    }
   ],
   "source": [
    "print(VT.transpose())"
   ]
  },
  {
   "cell_type": "markdown",
   "metadata": {},
   "source": [
    "#### Matrix U"
   ]
  },
  {
   "cell_type": "code",
   "execution_count": 32,
   "metadata": {},
   "outputs": [
    {
     "name": "stdout",
     "output_type": "stream",
     "text": [
      "[[ 1.17519867e-02  3.44207228e-04 -5.15532162e-02 -4.66128587e-01\n",
      "  -2.60345896e-01 -6.78428560e-02  1.08122936e-02 -8.41087769e-01]\n",
      " [ 1.17517760e-02  3.43641967e-04 -8.72103737e-02 -4.59351955e-01\n",
      "  -2.49098952e-01 -8.85591890e-02  7.65455993e-01  3.54169471e-01]\n",
      " [ 3.58735699e-01  6.54942912e-01  1.34538659e-02 -4.65084492e-01\n",
      "   1.70101644e-01  2.93617516e-01 -2.78385485e-01  1.82289869e-01]\n",
      " [ 1.43494223e-01  2.61976394e-01 -4.45383120e-01  1.36060221e-01\n",
      "  -5.00795526e-01 -5.87488150e-01 -2.73099287e-01  1.52897236e-01]\n",
      " [ 7.74962678e-01  2.27117371e-02  4.08516159e-01  2.84937362e-01\n",
      "   3.19642679e-02 -2.35211438e-01  2.62688692e-01 -1.59658351e-01]\n",
      " [ 2.81806634e-01  8.24745878e-03 -6.92167142e-01  3.15915567e-01\n",
      "   1.14149714e-02  5.01908806e-01  2.46628160e-01 -1.69560615e-01]\n",
      " [ 1.84643411e-01 -3.16806256e-01  2.48466337e-01 -3.46544961e-02\n",
      "  -6.98268275e-01  4.67261587e-01 -2.52393736e-01  1.81630339e-01]\n",
      " [ 3.69278450e-01 -6.33614920e-01 -2.88917222e-01 -3.93333286e-01\n",
      "   3.18917542e-01 -1.75016528e-01 -2.61429000e-01  1.52633610e-01]]\n"
     ]
    }
   ],
   "source": [
    "print(U)"
   ]
  },
  {
   "cell_type": "markdown",
   "metadata": {},
   "source": [
    "#### Matrix $\\Sigma$"
   ]
  },
  {
   "cell_type": "code",
   "execution_count": 33,
   "metadata": {},
   "outputs": [
    {
     "name": "stdout",
     "output_type": "stream",
     "text": [
      "[[6.02148954e+04 0.00000000e+00 0.00000000e+00 0.00000000e+00\n",
      "  0.00000000e+00 0.00000000e+00 0.00000000e+00 0.00000000e+00\n",
      "  0.00000000e+00]\n",
      " [0.00000000e+00 3.18245207e+04 0.00000000e+00 0.00000000e+00\n",
      "  0.00000000e+00 0.00000000e+00 0.00000000e+00 0.00000000e+00\n",
      "  0.00000000e+00]\n",
      " [0.00000000e+00 0.00000000e+00 2.60893068e+02 0.00000000e+00\n",
      "  0.00000000e+00 0.00000000e+00 0.00000000e+00 0.00000000e+00\n",
      "  0.00000000e+00]\n",
      " [0.00000000e+00 0.00000000e+00 0.00000000e+00 1.86219278e+02\n",
      "  0.00000000e+00 0.00000000e+00 0.00000000e+00 0.00000000e+00\n",
      "  0.00000000e+00]\n",
      " [0.00000000e+00 0.00000000e+00 0.00000000e+00 0.00000000e+00\n",
      "  1.45606434e+02 0.00000000e+00 0.00000000e+00 0.00000000e+00\n",
      "  0.00000000e+00]\n",
      " [0.00000000e+00 0.00000000e+00 0.00000000e+00 0.00000000e+00\n",
      "  0.00000000e+00 6.08809411e+01 0.00000000e+00 0.00000000e+00\n",
      "  0.00000000e+00]\n",
      " [0.00000000e+00 0.00000000e+00 0.00000000e+00 0.00000000e+00\n",
      "  0.00000000e+00 0.00000000e+00 3.89873639e+00 0.00000000e+00\n",
      "  0.00000000e+00]\n",
      " [0.00000000e+00 0.00000000e+00 0.00000000e+00 0.00000000e+00\n",
      "  0.00000000e+00 0.00000000e+00 0.00000000e+00 8.10241300e-01\n",
      "  0.00000000e+00]]\n"
     ]
    }
   ],
   "source": [
    "print(S)"
   ]
  },
  {
   "cell_type": "markdown",
   "metadata": {},
   "source": [
    "#### Homography Matrix"
   ]
  },
  {
   "cell_type": "code",
   "execution_count": 34,
   "metadata": {},
   "outputs": [
    {
     "name": "stdout",
     "output_type": "stream",
     "text": [
      "[[ 5.31056350e-02 -4.91718843e-03  6.14648552e-01]\n",
      " [ 1.77018784e-02 -3.93375075e-03  7.86750146e-01]\n",
      " [ 2.36025045e-04 -4.91718843e-05  7.62164204e-03]]\n"
     ]
    }
   ],
   "source": [
    "print(H)"
   ]
  }
 ],
 "metadata": {
  "interpreter": {
   "hash": "916dbcbb3f70747c44a77c7bcd40155683ae19c65e1c03b4aa3499c5328201f1"
  },
  "kernelspec": {
   "display_name": "Python 3.8.10 64-bit",
   "language": "python",
   "name": "python3"
  },
  "language_info": {
   "codemirror_mode": {
    "name": "ipython",
    "version": 3
   },
   "file_extension": ".py",
   "mimetype": "text/x-python",
   "name": "python",
   "nbconvert_exporter": "python",
   "pygments_lexer": "ipython3",
   "version": "3.8.10"
  },
  "orig_nbformat": 4
 },
 "nbformat": 4,
 "nbformat_minor": 2
}
