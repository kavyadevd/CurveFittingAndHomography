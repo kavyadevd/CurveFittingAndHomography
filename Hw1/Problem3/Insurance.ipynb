{
 "cells": [
  {
   "cell_type": "markdown",
   "metadata": {},
   "source": [
    "### Problem 3 - RANSAC\n",
    "##### When data is scattered, the least squares method to fit a curve might not be the best choice. In this problem, you are given data for health insurance costs based on the person’s age. There are other fields as well, but you have to fit a line only for age and insurance cost data.\n",
    "\n",
    "###### The data is stored in the file - 'dataset.csv'"
   ]
  },
  {
   "cell_type": "markdown",
   "metadata": {},
   "source": [
    ">> Read and plot csv file"
   ]
  },
  {
   "cell_type": "code",
   "execution_count": null,
   "metadata": {},
   "outputs": [],
   "source": [
    "import csv\n",
    "import numpy as np\n",
    "age = []\n",
    "cost = []\n",
    "with open('dataset.csv', 'r') as theFile:\n",
    "    reader = csv.DictReader(theFile)\n",
    "    for line in reader:\n",
    "        age.append(float(line['age']))\n",
    "        cost.append(float(line['charges']))\n"
   ]
  },
  {
   "cell_type": "markdown",
   "metadata": {},
   "source": [
    "##### 1. Compute the covariance matrix (from scratch) and find its eigenvalues and eigenvectors. \n",
    "###### Plot the eigenvectors on the same graph as the data."
   ]
  },
  {
   "cell_type": "code",
   "execution_count": null,
   "metadata": {},
   "outputs": [],
   "source": [
    "# Calculate mean age and cost\n",
    "mean_age = sum(age) / len(age)\n",
    "mean_cost = sum(cost) / len(cost)\n",
    "var_age = 0.0\n",
    "var_cost = 0.0\n",
    "covar_ = 0.0\n",
    "covar_cost = 0.0\n",
    "tls_dem = 0.0\n",
    "for i in range(len(age)):\n",
    "    var_age += (age[i]-mean_age)**2     # den\n",
    "    var_cost += (cost[i]-mean_cost)**2\n",
    "    covar_ += (age[i]-mean_age)*(cost[i]-mean_cost)  # num\n",
    "    #tls_dem += (((cost)-mean_cost)**2 -(age-mean_age)**2)\n",
    "var_age /= len(age)\n",
    "var_cost /= len(age)\n",
    "covar_ /= len(age)\n",
    "\n",
    "print('Mean age: ', mean_age, ', Mean cost: ', mean_cost, ', Variance age: ',\n",
    "      var_age, ', Variance cost: ', var_cost, ', Covariance: ', covar_)\n"
   ]
  },
  {
   "cell_type": "markdown",
   "metadata": {},
   "source": [
    "#### Covariance Matrix:"
   ]
  },
  {
   "cell_type": "code",
   "execution_count": null,
   "metadata": {},
   "outputs": [],
   "source": [
    "import matplotlib.pyplot as plot\n",
    "from numpy import linalg as LA\n",
    "\n",
    "covariance_mat = np.matrix([[var_age, covar_], [covar_, var_cost]])\n",
    "print('Covariance Matrix', covariance_mat)\n",
    "eigen_values, eigen_vector = LA.eig(covariance_mat)\n",
    "print('Eigen Values :\\n', eigen_values, '\\nEigen Vector :\\n', eigen_vector)\n",
    "\n",
    "# find out covariance with respect  columns\n",
    "cov_mat = np.stack((age, cost), axis=0)\n",
    "\n",
    "\n",
    "fig1 = plot.figure(figsize=(40, 15))\n",
    "plot.subplot(121)\n",
    "\n",
    "\n",
    "# Plotting Eigen vectors\n",
    "origin = [40, 30000]\n",
    "\n",
    "eig_vec1 = np.array(eigen_vector[:, 0])\n",
    "eig_vec2 = np.array(eigen_vector[:, 1])\n",
    "\n",
    "\n",
    "print(eig_vec1)\n",
    "print(eig_vec2)\n",
    "\n",
    "plot.quiver(*origin, *eig_vec1, color=['r'], scale=15)\n",
    "plot.quiver(*origin, *eig_vec2, color=['b'], scale=21)\n",
    "\n",
    "plot.xlabel('Age')\n",
    "plot.ylabel('Cost')\n",
    "plot.scatter(age, cost, c=\"pink\")\n",
    "plot.title('Age vs Insurance plot with eigen vectors')\n"
   ]
  },
  {
   "cell_type": "markdown",
   "metadata": {},
   "source": [
    "#### 2.1 Fit a line to the data using linear least square method"
   ]
  },
  {
   "cell_type": "code",
   "execution_count": null,
   "metadata": {},
   "outputs": [],
   "source": [
    "m = covar_/var_age\n",
    "c = mean_cost - m*mean_age\n",
    "\n",
    "Y_pred = m*np.array(age) + c\n",
    "\n",
    "fig1 = plot.figure(figsize=(40, 15))\n",
    "plot.subplot(121)\n",
    "plot.xlabel('Age')\n",
    "plot.ylabel('Cost')\n",
    "plot.scatter(age, cost, c=\"pink\", label=\"CSV data\")\n",
    "plot.plot([min(age), max(age)], [min(Y_pred), max(Y_pred)],\n",
    "          color='black', label='Linear least square')  # predicted\n",
    "plot.legend()\n",
    "plot.title('Dataset')\n",
    "\n",
    "# Uncomment and run to validate\n",
    "# A = np.vstack([np.array(age), np.ones(len(age))]).T\n",
    "# m, c = np.linalg.lstsq(A, cost, rcond=None)[0]\n",
    "# q = plot.plot(np.array(age), m*np.array(age) + c, 'r', label='Fitted line')\n",
    "\n",
    "\n",
    "plot.title('Linear least square')\n",
    "plot.savefig('LLS.png')\n"
   ]
  },
  {
   "cell_type": "markdown",
   "metadata": {},
   "source": [
    "#### Line fitting using total least square (aka orthogonal linear regression)"
   ]
  },
  {
   "cell_type": "code",
   "execution_count": null,
   "metadata": {},
   "outputs": [],
   "source": [
    "def tls(x,y):\n",
    "    x = (x-np.min(x))/(np.max(x)-np.min(x))\n",
    "    y = (y-np.min(y))/(np.max(y)-np.min(y))\n",
    "    mean_age_new = sum(x)/len(x)\n",
    "    mean_cost_new = sum(y)/len(y)\n",
    "\n",
    "    #Define Matrix A\n",
    "    A = np.vstack(((x-mean_age_new),(y-mean_cost_new))).T\n",
    "    At_A = np.dot(A.T,A)\n",
    "    V,U,S,H = SVD(At_A)\n",
    "    a,b = V[:,-1]\n",
    "    c = a*mean_age_new + b*mean_cost_new\n",
    "    return a,b,c\n"
   ]
  },
  {
   "cell_type": "code",
   "execution_count": null,
   "metadata": {},
   "outputs": [],
   "source": [
    "import random\n",
    "from scipy.odr import *\n",
    "\n",
    "\n",
    "def tls(X, y):\n",
    "    if len(X.shape) == 1:\n",
    "        n = 1\n",
    "        X = X.reshape(len(X), 1)\n",
    "    else:\n",
    "        n = np.array(X).shape[1]  # the number of variable of X\n",
    "\n",
    "    Z = np.vstack((X.T, y)).T\n",
    "    U, s, Vt = LA.svd(Z, full_matrices=True)\n",
    "\n",
    "    V = Vt.T\n",
    "    Vxy = V[:n, n:]\n",
    "    Vyy = V[n:, n:]\n",
    "    a_tls = - Vxy / Vyy  # total least squares soln\n",
    "\n",
    "    Xtyt = - Z.dot(V[:, n:]).dot(V[:, n:].T)\n",
    "    Xt = Xtyt[:, :n]  # X error\n",
    "    y_tls = (X+Xt).dot(a_tls)\n",
    "\n",
    "    fro_norm = LA.norm(Xtyt, 'fro')  # Frobenius norm\n",
    "\n",
    "    return y_tls, X + Xt, a_tls, fro_norm\n",
    "\n",
    "\n",
    "Y_, X_, a_, norm = tls(np.array(age), np.array(cost))\n",
    "\n",
    "\n",
    "# Define a function (quadratic in our case) to fit the data with.\n",
    "def linear_func(p, x):\n",
    "    m, c = p\n",
    "    return m*x + c\n",
    "\n",
    "\n",
    "# Create a model for fitting.\n",
    "linear_model = Model(linear_func)\n",
    "\n",
    "# Create a RealData object using our initiated data from above.\n",
    "data = RealData(age, cost)\n",
    "\n",
    "# Set up ODR with the model and data.\n",
    "odr = ODR(data, linear_model, beta0=[0., 1.])\n",
    "\n",
    "# Run the regression.\n",
    "out = odr.run()\n",
    "Y_inbuild = out.beta[0]*np.array(age) + out.beta[1]\n",
    "\n",
    "fig1 = plot.figure(figsize=(40, 15))\n",
    "plot.subplot(121)\n",
    "plot.xlabel('Age')\n",
    "plot.ylabel('Cost')\n",
    "plot.scatter(age, cost, c=\"pink\", label=\"CSV data\")\n",
    "plot.scatter(X_, Y_, c=\"black\", label=\"TLS\")\n",
    "plot.scatter(age, Y_inbuild, c=\"blue\", label=\"TLS_I\")\n",
    "plot.legend()\n",
    "plot.title('Dataset')\n"
   ]
  }
 ],
 "metadata": {
  "interpreter": {
   "hash": "916dbcbb3f70747c44a77c7bcd40155683ae19c65e1c03b4aa3499c5328201f1"
  },
  "kernelspec": {
   "display_name": "Python 3.8.10 64-bit",
   "language": "python",
   "name": "python3"
  },
  "language_info": {
   "codemirror_mode": {
    "name": "ipython",
    "version": 3
   },
   "file_extension": ".py",
   "mimetype": "text/x-python",
   "name": "python",
   "nbconvert_exporter": "python",
   "pygments_lexer": "ipython3",
   "version": "3.8.10"
  },
  "orig_nbformat": 4
 },
 "nbformat": 4,
 "nbformat_minor": 2
}
