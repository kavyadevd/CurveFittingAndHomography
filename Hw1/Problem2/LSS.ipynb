{
 "cells": [
  {
   "cell_type": "markdown",
   "metadata": {},
   "source": [
    "## ENPM673 – Perception for Autonomous Robots\n",
    "#### Homework 1 Problem 2\n",
    "#### Standard Least Squares to fit curves to the given videos"
   ]
  },
  {
   "cell_type": "markdown",
   "metadata": {},
   "source": [
    "##### Part 1 Plot the graphs"
   ]
  },
  {
   "cell_type": "code",
   "execution_count": 46,
   "metadata": {},
   "outputs": [
    {
     "ename": "ValueError",
     "evalue": "not enough values to unpack (expected 2, got 0)",
     "output_type": "error",
     "traceback": [
      "\u001b[0;31m---------------------------------------------------------------------------\u001b[0m",
      "\u001b[0;31mValueError\u001b[0m                                Traceback (most recent call last)",
      "\u001b[0;32m/tmp/ipykernel_8414/1422624770.py\u001b[0m in \u001b[0;36m<module>\u001b[0;34m\u001b[0m\n\u001b[1;32m      3\u001b[0m \u001b[0;34m\u001b[0m\u001b[0m\n\u001b[1;32m      4\u001b[0m \u001b[0;31m# Variables to store x and y coordinates\u001b[0m\u001b[0;34m\u001b[0m\u001b[0;34m\u001b[0m\u001b[0;34m\u001b[0m\u001b[0m\n\u001b[0;32m----> 5\u001b[0;31m \u001b[0mball_x1\u001b[0m\u001b[0;34m,\u001b[0m \u001b[0mball_x2\u001b[0m \u001b[0;34m=\u001b[0m \u001b[0;34m[\u001b[0m\u001b[0;34m]\u001b[0m\u001b[0;34m\u001b[0m\u001b[0;34m\u001b[0m\u001b[0m\n\u001b[0m\u001b[1;32m      6\u001b[0m \u001b[0mball_y1\u001b[0m\u001b[0;34m,\u001b[0m \u001b[0mball_y2\u001b[0m \u001b[0;34m=\u001b[0m \u001b[0;34m[\u001b[0m\u001b[0;34m]\u001b[0m\u001b[0;34m\u001b[0m\u001b[0;34m\u001b[0m\u001b[0m\n",
      "\u001b[0;31mValueError\u001b[0m: not enough values to unpack (expected 2, got 0)"
     ]
    }
   ],
   "source": [
    "import matplotlib.pyplot as plot\n",
    "import  csv\n",
    "\n",
    "# Variables to store x and y coordinates\n",
    "ball_x1, ball_x2 = []\n",
    "ball_y1, ball_y2 = []"
   ]
  },
  {
   "cell_type": "markdown",
   "metadata": {},
   "source": [
    "## Video 1"
   ]
  },
  {
   "cell_type": "code",
   "execution_count": null,
   "metadata": {},
   "outputs": [],
   "source": [
    "with open('output1.csv') as csvfile:\n",
    "    readCSV = csv.reader(csvfile, delimiter=',')\n",
    "    for row in readCSV:\n",
    "        ball_x1.append(float(row[0]))\n",
    "        ball_y1.append(float(row[1]))"
   ]
  },
  {
   "cell_type": "markdown",
   "metadata": {},
   "source": [
    "##### Plot graph for video 1"
   ]
  },
  {
   "cell_type": "code",
   "execution_count": null,
   "metadata": {},
   "outputs": [
    {
     "data": {
      "text/plain": [
       "Text(0.5, 1.0, 'Data 1')"
      ]
     },
     "execution_count": 28,
     "metadata": {},
     "output_type": "execute_result"
    },
    {
     "data": {
      "image/png": "[encoded data removed]",
      "text/plain": [
       "<Figure size 1080x288 with 1 Axes>"
      ]
     },
     "metadata": {
      "needs_background": "light"
     },
     "output_type": "display_data"
    }
   ],
   "source": [
    "fig1 = plot.figure(figsize=(15,4))\n",
    "plot.subplot(121)\n",
    "plot.xlabel('X Axis')\n",
    "plot.ylabel('Y Axis')\n",
    "plot.scatter(ball_x1,ball_y1,c='red')\n",
    "plot.title('Data 1')"
   ]
  },
  {
   "cell_type": "markdown",
   "metadata": {},
   "source": [
    "## Video 2"
   ]
  },
  {
   "cell_type": "markdown",
   "metadata": {},
   "source": [
    "##### Read data from CSV"
   ]
  },
  {
   "cell_type": "code",
   "execution_count": null,
   "metadata": {},
   "outputs": [],
   "source": [
    "with open('output2.csv') as csvfile:\n",
    "    readCSV = csv.reader(csvfile, delimiter=',')\n",
    "    for row in readCSV:\n",
    "        ball_x2.append(float(row[0]))\n",
    "        ball_y2.append(float(row[1]))"
   ]
  },
  {
   "cell_type": "markdown",
   "metadata": {},
   "source": [
    "##### Plot graph for Video 2"
   ]
  },
  {
   "cell_type": "code",
   "execution_count": null,
   "metadata": {},
   "outputs": [
    {
     "data": {
      "text/plain": [
       "Text(0.5, 1.0, 'Data 1')"
      ]
     },
     "execution_count": 30,
     "metadata": {},
     "output_type": "execute_result"
    },
    {
     "data": {
      "image/png": "[encoded data removed]",
      "text/plain": [
       "<Figure size 1080x288 with 1 Axes>"
      ]
     },
     "metadata": {
      "needs_background": "light"
     },
     "output_type": "display_data"
    }
   ],
   "source": [
    "fig2 = plot.figure(figsize=(15,4))\n",
    "plot.subplot(121)\n",
    "plot.xlabel('X Axis')\n",
    "plot.ylabel('Y Axis')\n",
    "plot.scatter(ball_x2,ball_y2,c='red')\n",
    "plot.title('Data 1')"
   ]
  },
  {
   "cell_type": "markdown",
   "metadata": {},
   "source": [
    "##### Equation of parabola:\n",
    "```math\n",
    "y = a + bx + c*x^2\n",
    "```\n",
    "##### To find the constants using least square, we need to solve the following three equations for three unknowns:\n",
    "\n",
    "$\\sum{y} = na + b\\sum{x} + c\\sum{x^2}$\n",
    "<br>\n",
    "$\\sum{xy} = a\\sum{x} + b\\sum{x^2} + c\\sum{x^3}$\n",
    "<br>\n",
    "$\\sum{x^{2}y} = a\\sum{x^2} + b\\sum{x^3} + c\\sum{x^4}$\n",
    "<br>\n",
    "\n",
    "##### Calculating the variables:"
   ]
  },
  {
   "cell_type": "markdown",
   "metadata": {},
   "source": [
    "$\\sum{y}$\n",
    "$\\sum{x}$\n",
    "$\\sum{x^2}$\n",
    "$\\sum{xy}$\n",
    "$\\sum{x^3}$\n",
    "$\\sum{x^{2}y}$\n",
    "$\\sum{x^4}$"
   ]
  },
  {
   "cell_type": "code",
   "execution_count": null,
   "metadata": {},
   "outputs": [],
   "source": [
    "s_y = 0.0\n",
    "s_x = 0.0\n",
    "s_x2 = 0.0\n",
    "s_xy = 0.0\n",
    "s_x3 = 0.0\n",
    "s_x2y = 0.0\n",
    "s_x4 = 0.0\n",
    "n = 0.0"
   ]
  },
  {
   "cell_type": "code",
   "execution_count": null,
   "metadata": {},
   "outputs": [
    {
     "name": "stdout",
     "output_type": "stream",
     "text": [
      "68.0 60112.0 140585.0 372458121.0 117137920.0 1069448089739.0 279287933398.0 3189186156295245.0\n"
     ]
    }
   ],
   "source": [
    "def Compute_Sum(ball_x, ball_y):\n",
    "    for i in range(len(ball_x)):\n",
    "        n+=1\n",
    "        s_y += ball_y[i]\n",
    "        s_x += ball_x[i]\n",
    "        s_x2 += (ball_x[i]*ball_x[i])\n",
    "        s_x3 += (ball_x[i]*ball_x[i]*ball_x[i])\n",
    "        s_x4 += (ball_x[i]*ball_x[i]*ball_x[i]*ball_x[i])\n",
    "        s_xy += (ball_x[i]*ball_y[i])\n",
    "        s_x2y += (ball_x[i]*ball_x[i]*ball_y[i])\n",
    "\n",
    "print(n,s_y,s_x,s_x2,s_xy,s_x3,s_x2y,s_x4)\n"
   ]
  },
  {
   "cell_type": "markdown",
   "metadata": {},
   "source": [
    "#### Solve the simultaneous equation for three variables\n",
    "\n",
    "$60112.0 = 68.0 a + 140585.0 b + 372458121.0 c$\n",
    "<br>\n",
    "$117137920.0 = 140585.0 a + 372458121.0 b + 1069448089739.0 c$\n",
    "<br>\n",
    "$279287933398.0 = 372458121.0 a + 1069448089739.0 b + 3189186156295245.0 c$\n",
    "<br>\n"
   ]
  },
  {
   "cell_type": "markdown",
   "metadata": {},
   "source": [
    "## Curve fitting for video1:"
   ]
  },
  {
   "cell_type": "code",
   "execution_count": null,
   "metadata": {},
   "outputs": [
    {
     "data": {
      "text/plain": [
       "array([ 1.29167462e+02,  1.55100315e+00, -4.47618552e-04])"
      ]
     },
     "execution_count": 39,
     "metadata": {},
     "output_type": "execute_result"
    }
   ],
   "source": [
    "import numpy as np\n",
    "\n",
    "Compute_Sum(ball_x1, ball_y1)\n",
    "a = [[n,s_x,s_x2],[s_x,s_x2,s_x3],[s_x2,s_x3,s_x4]]\n",
    "b = [s_y,s_xy,s_x2y]\n",
    "c =  np.linalg.solve(a, b)\n",
    "\n",
    "c"
   ]
  },
  {
   "cell_type": "code",
   "execution_count": null,
   "metadata": {},
   "outputs": [
    {
     "data": {
      "text/plain": [
       "Text(0.5, 1.0, 'Video 2')"
      ]
     },
     "execution_count": 43,
     "metadata": {},
     "output_type": "execute_result"
    },
    {
     "data": {
      "image/png": "[encoded data removed]",
      "text/plain": [
       "<Figure size 1080x288 with 1 Axes>"
      ]
     },
     "metadata": {
      "needs_background": "light"
     },
     "output_type": "display_data"
    }
   ],
   "source": [
    "fig = plot.figure(figsize=(15,4))\n",
    "plot.subplot(121)\n",
    "plot.xlabel('X Axis')\n",
    "plot.ylabel('Y Axis')\n",
    "plot.scatter(ball_x1,ball_y1,c='red')\n",
    "plot.title('Video 1')\n",
    "\n",
    "# Create the vectors X and Y\n",
    "x = np.array(range(4000))\n",
    "y = (c[0]) + (c[1]*x) + (c[2]*x*x)\n",
    "\n",
    "\n",
    "plot.scatter(x,y,c='blue')\n",
    "plot.title('Video 1')"
   ]
  },
  {
   "cell_type": "markdown",
   "metadata": {},
   "source": [
    "## Curve fitting for video2"
   ]
  },
  {
   "cell_type": "code",
   "execution_count": null,
   "metadata": {},
   "outputs": [],
   "source": [
    "s_y = 0.0\n",
    "s_x = 0.0\n",
    "s_x2 = 0.0\n",
    "s_xy = 0.0\n",
    "s_x3 = 0.0\n",
    "s_x2y = 0.0\n",
    "s_x4 = 0.0\n",
    "n = 0.0\n",
    "\n",
    "Compute_Sum(ball_x2, ball_y2)\n",
    "a = [[n,s_x,s_x2],[s_x,s_x2,s_x3],[s_x2,s_x3,s_x4]]\n",
    "b = [s_y,s_xy,s_x2y]\n",
    "c =  np.linalg.solve(a, b)\n",
    "\n",
    "c"
   ]
  },
  {
   "cell_type": "code",
   "execution_count": 47,
   "metadata": {},
   "outputs": [
    {
     "ename": "NameError",
     "evalue": "name 'ball_x1' is not defined",
     "output_type": "error",
     "traceback": [
      "\u001b[0;31m---------------------------------------------------------------------------\u001b[0m",
      "\u001b[0;31mNameError\u001b[0m                                 Traceback (most recent call last)",
      "\u001b[0;32m/tmp/ipykernel_8414/2883645222.py\u001b[0m in \u001b[0;36m<module>\u001b[0;34m\u001b[0m\n\u001b[1;32m      3\u001b[0m \u001b[0mplot\u001b[0m\u001b[0;34m.\u001b[0m\u001b[0mxlabel\u001b[0m\u001b[0;34m(\u001b[0m\u001b[0;34m'X Axis'\u001b[0m\u001b[0;34m)\u001b[0m\u001b[0;34m\u001b[0m\u001b[0;34m\u001b[0m\u001b[0m\n\u001b[1;32m      4\u001b[0m \u001b[0mplot\u001b[0m\u001b[0;34m.\u001b[0m\u001b[0mylabel\u001b[0m\u001b[0;34m(\u001b[0m\u001b[0;34m'Y Axis'\u001b[0m\u001b[0;34m)\u001b[0m\u001b[0;34m\u001b[0m\u001b[0;34m\u001b[0m\u001b[0m\n\u001b[0;32m----> 5\u001b[0;31m \u001b[0mplot\u001b[0m\u001b[0;34m.\u001b[0m\u001b[0mscatter\u001b[0m\u001b[0;34m(\u001b[0m\u001b[0mball_x1\u001b[0m\u001b[0;34m,\u001b[0m\u001b[0mball_y1\u001b[0m\u001b[0;34m,\u001b[0m\u001b[0mc\u001b[0m\u001b[0;34m=\u001b[0m\u001b[0;34m'red'\u001b[0m\u001b[0;34m)\u001b[0m\u001b[0;34m\u001b[0m\u001b[0;34m\u001b[0m\u001b[0m\n\u001b[0m\u001b[1;32m      6\u001b[0m \u001b[0mplot\u001b[0m\u001b[0;34m.\u001b[0m\u001b[0mtitle\u001b[0m\u001b[0;34m(\u001b[0m\u001b[0;34m'Video 2'\u001b[0m\u001b[0;34m)\u001b[0m\u001b[0;34m\u001b[0m\u001b[0;34m\u001b[0m\u001b[0m\n\u001b[1;32m      7\u001b[0m \u001b[0;34m\u001b[0m\u001b[0m\n",
      "\u001b[0;31mNameError\u001b[0m: name 'ball_x1' is not defined"
     ]
    },
    {
     "data": {
      "image/png": "[encoded data removed]",
      "text/plain": [
       "<Figure size 1080x288 with 1 Axes>"
      ]
     },
     "metadata": {
      "needs_background": "light"
     },
     "output_type": "display_data"
    }
   ],
   "source": [
    "fig2 = plot.figure(figsize=(15,4))\n",
    "plot.subplot(121)\n",
    "plot.xlabel('X Axis')\n",
    "plot.ylabel('Y Axis')\n",
    "plot.scatter(ball_x2,ball_y2,c='red')\n",
    "plot.title('Video 2')\n",
    "\n",
    "# Create the vectors X and Y\n",
    "x = np.array(range(4000))\n",
    "y = (c[0]) + (c[1]*x) + (c[2]*x*x)\n",
    "\n",
    "\n",
    "plot.scatter(x,y,c='blue')\n",
    "plot.title('Video 2')"
   ]
  }
 ],
 "metadata": {
  "interpreter": {
   "hash": "916dbcbb3f70747c44a77c7bcd40155683ae19c65e1c03b4aa3499c5328201f1"
  },
  "kernelspec": {
   "display_name": "Python 3.8.10 64-bit",
   "language": "python",
   "name": "python3"
  },
  "language_info": {
   "codemirror_mode": {
    "name": "ipython",
    "version": 3
   },
   "file_extension": ".py",
   "mimetype": "text/x-python",
   "name": "python",
   "nbconvert_exporter": "python",
   "pygments_lexer": "ipython3",
   "version": "3.8.10"
  },
  "orig_nbformat": 4
 },
 "nbformat": 4,
 "nbformat_minor": 2
}
