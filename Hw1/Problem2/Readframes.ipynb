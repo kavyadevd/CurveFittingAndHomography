{
 "cells": [
  {
   "cell_type": "markdown",
   "metadata": {},
   "source": [
    "## Part 1: Read video frame by frame and save coordinated of ball in a csv file"
   ]
  },
  {
   "cell_type": "markdown",
   "metadata": {},
   "source": [
    "#### Import packages"
   ]
  },
  {
   "cell_type": "code",
   "execution_count": null,
   "metadata": {},
   "outputs": [],
   "source": [
    "import cv2\n",
    "import numpy as np\n",
    "import  csv"
   ]
  },
  {
   "cell_type": "code",
   "execution_count": null,
   "metadata": {},
   "outputs": [],
   "source": [
    "# Variables to write data in csv file\n",
    "oFile = open(\"output.csv\",\"w\")\n",
    "writer = csv.writer(oFile, delimiter = ',', dialect = 'excel', lineterminator = '\\n')\n",
    "\n",
    "# create video capture object\n",
    "video_ = cv2.VideoCapture(\"ball_video1.mp4\")\n",
    "\n",
    "# wait till video is playing\n",
    "while not video_.isOpened():\n",
    "    print(\"Loading Video\")\n",
    "    video_ = cv2.VideoCapture(\"ball_video1.mp4\")\n",
    "    cv2.waitKey(1000)\n",
    "\n",
    "# variables to store ball x-y coordinates\n",
    "ball_x =[]\n",
    "ball_y =[]"
   ]
  },
  {
   "cell_type": "code",
   "execution_count": null,
   "metadata": {},
   "outputs": [],
   "source": [
    "# read video frame by frame\n",
    "pos_frame = video_.get(cv2.CAP_PROP_POS_FRAMES)\n",
    "while True:\n",
    "    flag, frame = video_.read()\n",
    "    if flag:\n",
    "        cv2.imshow('video', frame)\n",
    "        pos_frame = video_.get(cv2.CAP_PROP_POS_FRAMES)\n",
    "        print(str(pos_frame)+\" frames\")\n",
    "        \n",
    "        img_hsv = cv2.cvtColor(frame, cv2.COLOR_BGR2HSV)\n",
    "        mask_lb = cv2.inRange(img_hsv, (0,90,50), (5,255,255)) # lower bound for red color hsv value\n",
    "        mask_ub = cv2.inRange(img_hsv, (175,90,50), (180,255,255)) # upper bound for red color hsv value\n",
    "        mask = cv2.bitwise_or(mask_lb, mask_ub )\n",
    "        contours,_= cv2.findContours(mask,cv2.RETR_TREE,cv2.CHAIN_APPROX_SIMPLE)\n",
    "        max_contour = contours[0]\n",
    "        for contour in contours:\n",
    "            if cv2.contourArea(contour)>cv2.contourArea(max_contour):\n",
    "                max_contour=contour\n",
    "        contour=max_contour\n",
    "        M=cv2.moments(contour)\n",
    "        x=int(M['m10']//M['m00'])\n",
    "        y=int(M['m01']//M['m00'])\n",
    "        print(\"x: %d\"%x)\n",
    "        print(\"y: %d\"%y)\n",
    "        ball_x.append(x)\n",
    "        ball_y.append(y)\n",
    "        writer.writerow([x, y])\n",
    "        cv2.waitKey(1000)\n",
    "    else:   # wait for next frame        \n",
    "        video_.set(cv2.cv.CV_CAP_PROP_POS_FRAMES, pos_frame-1)\n",
    "        cv2.waitKey(1000)\n",
    "    if cv2.waitKey(10) == 27:\n",
    "        break\n",
    "    if video_.get(cv2.CAP_PROP_POS_FRAMES) == video_.get(cv2.CAP_PROP_FRAME_COUNT): \n",
    "        # traversed all frames\n",
    "        break\n"
   ]
  }
 ],
 "metadata": {
  "interpreter": {
   "hash": "b131e15056848ad206743bfbb52829ff30c0c49c030ed3a8b3064d6e3bda8272"
  },
  "kernelspec": {
   "display_name": "Python 3.10.2 64-bit (windows store)",
   "language": "python",
   "name": "python3"
  },
  "language_info": {
   "name": "python",
   "version": "3.10.2"
  },
  "orig_nbformat": 4
 },
 "nbformat": 4,
 "nbformat_minor": 2
}
